{
 "cells": [
  {
   "cell_type": "code",
   "execution_count": 1,
   "metadata": {},
   "outputs": [],
   "source": [
    "import numpy as np\n",
    "import matplotlib.pyplot as plt\n",
    "from scipy.spatial.distance import cdist"
   ]
  },
  {
   "cell_type": "markdown",
   "metadata": {},
   "source": [
    "**Creating random data points**"
   ]
  },
  {
   "cell_type": "code",
   "execution_count": 2,
   "metadata": {},
   "outputs": [],
   "source": [
    "np.random.seed(14)\n",
    "n = 40 #datapoints\n",
    "p = 2 #features\n",
    "k = 3 #num of clusters\n",
    "\n",
    "X = np.random.random((n,p))"
   ]
  },
  {
   "cell_type": "code",
   "execution_count": 3,
   "metadata": {},
   "outputs": [
    {
     "data": {
      "text/plain": [
       "<matplotlib.collections.PathCollection at 0x1edfeb5edb0>"
      ]
     },
     "execution_count": 3,
     "metadata": {},
     "output_type": "execute_result"
    },
    {
     "data": {
      "image/png": "[encoded data removed]",
      "text/plain": [
       "<Figure size 640x480 with 1 Axes>"
      ]
     },
     "metadata": {},
     "output_type": "display_data"
    }
   ],
   "source": [
    "plt.scatter(X[:,0], X[:,1])"
   ]
  },
  {
   "cell_type": "code",
   "execution_count": 4,
   "metadata": {},
   "outputs": [],
   "source": [
    "#initialize centers\n",
    "#while not converged:\n",
    "#  update cluster membership\n",
    "#  update centroids"
   ]
  },
  {
   "cell_type": "code",
   "execution_count": 5,
   "metadata": {},
   "outputs": [],
   "source": [
    "#initialize centers\n",
    "#  pick an initial guess for the center within our points\n",
    "centers = X[np.random.choice(n, k, replace = False)]"
   ]
  },
  {
   "cell_type": "code",
   "execution_count": 6,
   "metadata": {},
   "outputs": [
    {
     "data": {
      "text/plain": [
       "0.4862964063615288"
      ]
     },
     "execution_count": 6,
     "metadata": {},
     "output_type": "execute_result"
    }
   ],
   "source": [
    "#euclidean distance formula\n",
    "((X[0] - centers[0])**2).sum()**0.5"
   ]
  },
  {
   "cell_type": "code",
   "execution_count": 7,
   "metadata": {},
   "outputs": [
    {
     "data": {
      "text/plain": [
       "array([0.48629641, 0.90690435, 0.49714814, 0.44309075, 0.51299577,\n",
       "       0.71458606, 0.65601763, 0.63444289, 0.83241629, 0.69329662,\n",
       "       0.85563223, 0.19200601, 0.61378302, 0.61100154, 0.19408797,\n",
       "       0.88318662, 0.77376997, 0.66623156, 0.5726295 , 0.46329404,\n",
       "       0.32173012, 0.5141303 , 0.53747324, 0.18241012, 0.76530468,\n",
       "       0.29717319, 0.29449405, 0.9218017 , 0.        , 0.41673303,\n",
       "       0.52450981, 0.05387286, 0.34944637, 0.34792318, 0.75677839,\n",
       "       0.37690523, 0.4054013 , 0.60206634, 0.30956743, 0.07311428])"
      ]
     },
     "execution_count": 7,
     "metadata": {},
     "output_type": "execute_result"
    }
   ],
   "source": [
    "#this works because of broadcasting\n",
    "((X-centers[0])**2).sum(axis=1)**0.5"
   ]
  },
  {
   "cell_type": "code",
   "execution_count": 8,
   "metadata": {},
   "outputs": [
    {
     "data": {
      "text/plain": [
       "array([[0.48629641, 0.74791069, 0.76769666],\n",
       "       [0.90690435, 0.13524426, 0.33154596],\n",
       "       [0.49714814, 0.99614158, 0.97892848],\n",
       "       [0.44309075, 0.3464103 , 0.31347187],\n",
       "       [0.51299577, 0.26124829, 0.21538138],\n",
       "       [0.71458606, 0.28624578, 0.42983464],\n",
       "       [0.65601763, 0.21521753, 0.        ],\n",
       "       [0.63444289, 0.16491496, 0.2443443 ],\n",
       "       [0.83241629, 0.36314167, 0.53914029],\n",
       "       [0.69329662, 0.70081341, 0.78679457],\n",
       "       [0.85563223, 0.13281978, 0.34760758],\n",
       "       [0.19200601, 0.60789768, 0.52632209],\n",
       "       [0.61378302, 0.2086638 , 0.2851861 ],\n",
       "       [0.61100154, 0.59638155, 0.67103989],\n",
       "       [0.19408797, 0.62142956, 0.47680156],\n",
       "       [0.88318662, 0.14252875, 0.35715303],\n",
       "       [0.77376997, 0.        , 0.21521753],\n",
       "       [0.66623156, 0.68032852, 0.76139786],\n",
       "       [0.5726295 , 0.98883007, 0.9941742 ],\n",
       "       [0.46329404, 0.32085927, 0.20342955],\n",
       "       [0.32173012, 0.76268074, 0.73325311],\n",
       "       [0.5141303 , 0.38927671, 0.18713084],\n",
       "       [0.53747324, 1.03072904, 1.01765769],\n",
       "       [0.18241012, 0.60821483, 0.52044011],\n",
       "       [0.76530468, 0.88140129, 0.95814578],\n",
       "       [0.29717319, 0.59054791, 0.41807192],\n",
       "       [0.29449405, 0.63128048, 0.45420363],\n",
       "       [0.9218017 , 0.30988323, 0.51636866],\n",
       "       [0.        , 0.77376997, 0.65601763],\n",
       "       [0.41673303, 0.73220841, 0.73330233],\n",
       "       [0.52450981, 0.57266811, 0.62064453],\n",
       "       [0.05387286, 0.76301175, 0.65920472],\n",
       "       [0.34944637, 0.63274767, 0.44365607],\n",
       "       [0.34792318, 0.47151845, 0.43239627],\n",
       "       [0.75677839, 0.01709926, 0.20620281],\n",
       "       [0.37690523, 0.47897175, 0.305071  ],\n",
       "       [0.4054013 , 0.56926052, 0.57420405],\n",
       "       [0.60206634, 0.18617208, 0.23080536],\n",
       "       [0.30956743, 0.52136679, 0.47663661],\n",
       "       [0.07311428, 0.83559028, 0.72547771]])"
      ]
     },
     "execution_count": 8,
     "metadata": {},
     "output_type": "execute_result"
    }
   ],
   "source": [
    "distances = np.zeros((n,k))\n",
    "for i in range(k):\n",
    "   distances[:,i] = ((X-centers[i])**2).sum(axis=1)**0.5\n",
    "distances"
   ]
  },
  {
   "cell_type": "markdown",
   "metadata": {},
   "source": [
    "**Using scipy**"
   ]
  },
  {
   "cell_type": "code",
   "execution_count": 9,
   "metadata": {},
   "outputs": [],
   "source": [
    "distances = cdist(X,centers)\n",
    "closest = np.argmin(distances, axis=1)"
   ]
  },
  {
   "cell_type": "code",
   "execution_count": 10,
   "metadata": {},
   "outputs": [
    {
     "data": {
      "text/plain": [
       "array([0.36876116, 0.59816163])"
      ]
     },
     "execution_count": 10,
     "metadata": {},
     "output_type": "execute_result"
    }
   ],
   "source": [
    "X[closest == 0].mean(axis=0)"
   ]
  },
  {
   "cell_type": "code",
   "execution_count": 11,
   "metadata": {},
   "outputs": [
    {
     "data": {
      "text/plain": [
       "array([[0.36876116, 0.59816163],\n",
       "       [0.79410551, 0.21993471],\n",
       "       [0.446594  , 0.15870067]])"
      ]
     },
     "execution_count": 11,
     "metadata": {},
     "output_type": "execute_result"
    }
   ],
   "source": [
    "for i in range(k):\n",
    "    centers[i, :] = X[closest == i].mean(axis=0)\n",
    "centers"
   ]
  },
  {
   "cell_type": "markdown",
   "metadata": {},
   "source": [
    "**Defining and implementing our actual function**"
   ]
  },
  {
   "cell_type": "code",
   "execution_count": 12,
   "metadata": {},
   "outputs": [
    {
     "name": "stdout",
     "output_type": "stream",
     "text": [
      "[0 0 0 0 0 0 0 0 0 0 0 0 0 0 0 0 0 0 0 0 0 0 0 0 0 0 0 0 0 0 0 0 0 0 0 0 0\n",
      " 0 0 0]\n",
      "[0 1 0 0 0 2 2 2 2 0 2 0 2 0 0 1 2 0 0 0 0 0 0 0 0 0 0 2 0 0 0 0 0 0 2 0 0\n",
      " 2 0 0]\n",
      "[0 1 0 0 2 2 2 2 2 0 1 0 2 0 0 1 2 0 0 2 0 2 0 0 0 0 0 1 0 0 0 0 0 0 2 0 0\n",
      " 2 0 0]\n",
      "[0 1 0 2 2 2 2 2 1 0 1 0 2 0 0 1 2 0 0 2 0 2 0 0 0 0 0 1 0 0 0 0 0 0 2 2 0\n",
      " 2 0 0]\n",
      "[0 1 0 2 2 1 2 2 1 0 1 0 2 0 0 1 1 0 0 2 0 2 0 0 0 2 2 1 0 0 0 0 2 0 2 2 0\n",
      " 2 0 0]\n",
      "[0 1 0 2 2 1 2 1 1 0 1 0 1 0 2 1 1 0 0 2 0 2 0 0 0 2 2 1 0 0 0 0 2 0 1 2 0\n",
      " 2 0 0]\n",
      "[0 1 0 2 2 1 2 1 1 0 1 0 1 0 2 1 1 0 0 2 0 2 0 0 0 2 2 1 0 0 0 0 2 0 1 2 0\n",
      " 1 0 0]\n"
     ]
    }
   ],
   "source": [
    "np.random.seed(45609)\n",
    "#initialize centers\n",
    "centers = X[np.random.choice(n, k, replace = False)]\n",
    "closest = np.zeros(n).astype(int)\n",
    "\n",
    "#while not converged:\n",
    "while True:\n",
    "    old_closest = closest.copy()\n",
    "    print(closest)\n",
    "    distances = cdist(X,centers)\n",
    "    #  update cluster membership\n",
    "    closest = np.argmin(distances, axis=1)\n",
    "\n",
    "    #  update centroids\n",
    "    for i in range(k):\n",
    "        centers[i, :] = X[closest == i].mean(axis=0)\n",
    "\n",
    "    if all(closest == old_closest):\n",
    "        break"
   ]
  },
  {
   "cell_type": "code",
   "execution_count": 13,
   "metadata": {},
   "outputs": [
    {
     "data": {
      "text/plain": [
       "<matplotlib.collections.PathCollection at 0x1edffc45be0>"
      ]
     },
     "execution_count": 13,
     "metadata": {},
     "output_type": "execute_result"
    },
    {
     "data": {
      "image/png": "[encoded data removed]",
      "text/plain": [
       "<Figure size 640x480 with 1 Axes>"
      ]
     },
     "metadata": {},
     "output_type": "display_data"
    }
   ],
   "source": [
    "plt.scatter(X[:,0],X[:,1], c=closest)"
   ]
  },
  {
   "cell_type": "code",
   "execution_count": null,
   "metadata": {},
   "outputs": [],
   "source": []
  }
 ],
 "metadata": {
  "kernelspec": {
   "display_name": "Python 3 (ipykernel)",
   "language": "python",
   "name": "python3"
  },
  "language_info": {
   "codemirror_mode": {
    "name": "ipython",
    "version": 3
   },
   "file_extension": ".py",
   "mimetype": "text/x-python",
   "name": "python",
   "nbconvert_exporter": "python",
   "pygments_lexer": "ipython3",
   "version": "3.12.3"
  }
 },
 "nbformat": 4,
 "nbformat_minor": 4
}
